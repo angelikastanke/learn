{
 "cells": [
  {
   "cell_type": "markdown",
   "metadata": {},
   "source": [
    "## Multiclassification"
   ]
  },
  {
   "cell_type": "code",
   "execution_count": 11,
   "metadata": {},
   "outputs": [],
   "source": [
    "import pandas as pd\n",
    "import numpy as np\n",
    "import pickle\n",
    "from datetime import datetime\n",
    "from sklearn.datasets import fetch_openml\n",
    "from sklearn.ensemble import RandomForestClassifier, ExtraTreesClassifier, VotingClassifier\n",
    "from sklearn.multiclass import OneVsRestClassifier, OneVsOneClassifier\n",
    "from sklearn.neighbors import KNeighborsClassifier\n",
    "from sklearn.model_selection import RandomizedSearchCV, GridSearchCV, StratifiedKFold, train_test_split\n",
    "from sklearn.svm import LinearSVC, SVC\n",
    "from sklearn.linear_model import SGDClassifier\n",
    "from sklearn.metrics import accuracy_score, mean_squared_error, r2_score\n",
    "from sklearn.model_selection import cross_val_score\n",
    "from xgboost import XGBClassifier\n",
    "OMP_NUM_THREADS=1 \n",
    "import hyperopt\n",
    "from hyperopt import hp\n",
    "from hpsklearn import HyperoptEstimator, xgboost_classification, sgd, any_classifier\n",
    "import xgboost as xgb\n",
    "from sklearn import datasets, linear_model\n",
    "import matplotlib.pyplot as plt\n",
    "\n",
    "from yellowbrick.target import class_balance, ClassBalance\n",
    "from yellowbrick.classifier import ConfusionMatrix"
   ]
  },
  {
   "cell_type": "code",
   "execution_count": 12,
   "metadata": {},
   "outputs": [],
   "source": [
    "RANDOM_STATE = 42"
   ]
  },
  {
   "cell_type": "code",
   "execution_count": 13,
   "metadata": {},
   "outputs": [],
   "source": [
    "def timer(start_time=None):\n",
    "    # this is customized function to print the time of performance\n",
    "    if not start_time:\n",
    "        start_time = datetime.now()\n",
    "        return start_time\n",
    "    elif start_time:\n",
    "        thour, temp_sec = divmod((datetime.now() - start_time).total_seconds(), 3600)\n",
    "        tmin, tsec = divmod(temp_sec, 60)\n",
    "        print('\\n Time taken: %i hours %i minutes and %s seconds.' % (thour, tmin, round(tsec, 2)))"
   ]
  },
  {
   "cell_type": "markdown",
   "metadata": {},
   "source": [
    "## Data\n",
    "Dataset used for numbers classification problems"
   ]
  },
  {
   "cell_type": "code",
   "execution_count": 14,
   "metadata": {},
   "outputs": [],
   "source": [
    "mnist = fetch_openml('mnist_784', version=1)\n",
    "# split for test, train and validation\n",
    "\n",
    "X_train, X_test, y_train, y_test = train_test_split(\n",
    "    mnist.data, mnist.target, test_size=10000, train_size=50000, random_state=RANDOM_STATE)\n",
    "\n",
    "#X_train_val, X_test, y_train_val, y_test = train_test_split(\n",
    "#    mnist.data, mnist.target, test_size=10000, random_state=RANDOM_STATE)\n",
    "#X_train, X_val, y_train, y_val = train_test_split(\n",
    "#    X_train_val, y_train_val, test_size=10000, random_state=RANDOM_STATE)"
   ]
  },
  {
   "cell_type": "code",
   "execution_count": 15,
   "metadata": {},
   "outputs": [],
   "source": [
    "labels = np.unique(y_train)"
   ]
  },
  {
   "cell_type": "markdown",
   "metadata": {},
   "source": [
    "## Multiclass"
   ]
  },
  {
   "cell_type": "markdown",
   "metadata": {},
   "source": [
    "Część metod modelarskich obługuje też multiclass classification. Lista tutaj: https://scikit-learn.org/stable/modules/multiclass.html#\n",
    "Poniżej przykład xgboost z użyciem multiclass ('objective':\"multi:softmax\" zamiast \"binary\")."
   ]
  },
  {
   "cell_type": "code",
   "execution_count": null,
   "metadata": {},
   "outputs": [],
   "source": [
    "start_time = timer(start_time=None)\n",
    "\n",
    "param = {'objective':\"multi:softmax\",\n",
    "         'random_state':RANDOM_STATE}\n",
    "\n",
    "xgb_cl = XGBClassifier(**param)\n",
    "xgb_cl.fit(X_train, y_train)\n",
    "\n",
    "timer(start_time)"
   ]
  },
  {
   "cell_type": "code",
   "execution_count": null,
   "metadata": {},
   "outputs": [],
   "source": [
    "xgb_cl.params"
   ]
  },
  {
   "cell_type": "code",
   "execution_count": 16,
   "metadata": {},
   "outputs": [
    {
     "data": {
      "text/plain": [
       "0.976"
      ]
     },
     "execution_count": 16,
     "metadata": {},
     "output_type": "execute_result"
    }
   ],
   "source": [
    "accuracy_score(xgb_cl.predict(X_test), y_test)"
   ]
  },
  {
   "cell_type": "markdown",
   "metadata": {},
   "source": [
    "## Optimized hiperparameters"
   ]
  },
  {
   "cell_type": "code",
   "execution_count": 67,
   "metadata": {},
   "outputs": [],
   "source": [
    "# parameters optimization\n",
    "\n",
    "# A parameter grid for XGBoost\n",
    "params_grid = {\n",
    "        'min_child_weight': [1, 5, 10],\n",
    "        'learning_rate': [0.1, 0.5],\n",
    "        'subsample': [0.6, 0.8, 1.0],\n",
    "        'colsample_bytree': [0.6, 0.8, 1.0],\n",
    "        'max_depth': [5, 7, 10],\n",
    "        'objective': [\"multi:softmax\"]\n",
    "        }"
   ]
  },
  {
   "cell_type": "code",
   "execution_count": 41,
   "metadata": {},
   "outputs": [
    {
     "name": "stdout",
     "output_type": "stream",
     "text": [
      "100%|██████████| 5/5 [36:42<00:00, 440.53s/trial, best loss: -0.9966]\n",
      "\n",
      " Time taken: 0 hours 36 minutes and 42.68 seconds.\n"
     ]
    }
   ],
   "source": [
    "# hyperopt\n",
    "\n",
    "search_space = { \n",
    " 'min_child_weight': hp.choice('min_child_weight', np.arange(1, 10, dtype=int)),\n",
    "     'learning_rate': hp.uniform('learning_rate', 0.1, 0.5),\n",
    "     'subsample': hp.uniform('subsample', 0.6, 1),\n",
    "    'colsample_bytree': hp.uniform('colsample_bytree', 0.6, 1),\n",
    "     'max_depth': hp.choice( 'max_depth', np.arange(5, 10, dtype=int))\n",
    "}\n",
    "\n",
    "# define objective function\n",
    "def hyperparameter_tuning(params):\n",
    "    bst = XGBClassifier(**param)\n",
    "    bst.fit(X_train, y_train)\n",
    "    acc = accuracy_score(bst.predict(X_val), y_val)\n",
    "    return -acc\n",
    "\n",
    "start_time = timer(None)\n",
    "best = hyperopt.fmin(fn=hyperparameter_tuning, space=search_space, algo=hyperopt.tpe.suggest, max_evals=5)\n",
    "timer(start_time) "
   ]
  },
  {
   "cell_type": "code",
   "execution_count": 69,
   "metadata": {},
   "outputs": [
    {
     "name": "stdout",
     "output_type": "stream",
     "text": [
      "Fitting 3 folds for each of 5 candidates, totalling 15 fits\n"
     ]
    },
    {
     "name": "stderr",
     "output_type": "stream",
     "text": [
      "[Parallel(n_jobs=3)]: Using backend LokyBackend with 3 concurrent workers.\n",
      "[Parallel(n_jobs=3)]: Done   2 tasks      | elapsed: 15.0min\n",
      "[Parallel(n_jobs=3)]: Done   7 tasks      | elapsed: 50.6min\n",
      "[Parallel(n_jobs=3)]: Done  12 out of  15 | elapsed: 64.4min remaining: 16.1min\n",
      "[Parallel(n_jobs=3)]: Done  15 out of  15 | elapsed: 75.6min finished\n"
     ]
    },
    {
     "name": "stdout",
     "output_type": "stream",
     "text": [
      "\n",
      " Time taken: 1 hours 21 minutes and 25.15 seconds.\n"
     ]
    }
   ],
   "source": [
    "# randomized search\n",
    "folds = 3\n",
    "\n",
    "skf = StratifiedKFold(n_splits=folds, shuffle = True, random_state = RANDOM_STATE)\n",
    "\n",
    "random_search = RandomizedSearchCV(xgb_cl, param_distributions=params_grid, \n",
    "                                   n_iter=5, \n",
    "                                   n_jobs=3, cv=skf.split(X_train, y_train),\n",
    "                                   verbose=10, \n",
    "                                   random_state=RANDOM_STATE)\n",
    "\n",
    "# optimize\n",
    "start_time = timer(None) # timing starts from this point for \"start_time\" variable\n",
    "random_search.fit(X_train, y_train)\n",
    "timer(start_time) # timing ends here for \"start_time\" variable"
   ]
  },
  {
   "cell_type": "code",
   "execution_count": 70,
   "metadata": {},
   "outputs": [
    {
     "data": {
      "text/plain": [
       "{'subsample': 0.8,\n",
       " 'objective': 'multi:softmax',\n",
       " 'min_child_weight': 5,\n",
       " 'max_depth': 7,\n",
       " 'learning_rate': 0.5,\n",
       " 'colsample_bytree': 0.8}"
      ]
     },
     "execution_count": 70,
     "metadata": {},
     "output_type": "execute_result"
    }
   ],
   "source": [
    "random_search.best_params_"
   ]
  },
  {
   "cell_type": "code",
   "execution_count": 71,
   "metadata": {},
   "outputs": [
    {
     "data": {
      "text/plain": [
       "XGBClassifier(base_score=0.5, booster='gbtree', colsample_bylevel=1,\n",
       "              colsample_bynode=1, colsample_bytree=0.8, gamma=0, gpu_id=-1,\n",
       "              importance_type='gain', interaction_constraints='',\n",
       "              learning_rate=0.5, max_delta_step=0, max_depth=7,\n",
       "              min_child_weight=5, missing=nan, monotone_constraints='()',\n",
       "              n_estimators=100, n_jobs=0, num_parallel_tree=1,\n",
       "              objective='multi:softprob', random_state=0, reg_alpha=0,\n",
       "              reg_lambda=1, scale_pos_weight=None, subsample=0.8,\n",
       "              tree_method='exact', validate_parameters=1, verbosity=None)"
      ]
     },
     "execution_count": 71,
     "metadata": {},
     "output_type": "execute_result"
    }
   ],
   "source": [
    "xgb_cl = XGBClassifier(**random_search.best_params_)\n",
    "xgb_cl.fit(X_train, y_train)"
   ]
  },
  {
   "cell_type": "code",
   "execution_count": 72,
   "metadata": {},
   "outputs": [
    {
     "data": {
      "text/plain": [
       "0.9733"
      ]
     },
     "execution_count": 72,
     "metadata": {},
     "output_type": "execute_result"
    }
   ],
   "source": [
    "accuracy_score(xgb_cl.predict(X_test), y_test)"
   ]
  },
  {
   "cell_type": "markdown",
   "metadata": {},
   "source": [
    "## multiclass with OneVsRest (scikit learn method)\n",
    "OneVsRest buduje niezależnie osobny model dla kazdej klasy. Może zostać uzyte z dowolnym klasyfikatorem binarnym. Dokumentacja: https://scikit-learn.org/stable/modules/multiclass.html#one-vs-the-rest.\n",
    "Uwaga: modele budowane są z takim samym zestawem hiperparametrów i nie znalazłam implementacji, która pozwalałaby zautomatyzować w pewnym stopniu optymalizację tych hiperparametrów dla każdego modelu. Aczkolwiek wydaje się, że takiego rozwiązanie to kwestia dopisania kilku linijek. (Przykłąd w kolejnym akapicie)"
   ]
  },
  {
   "cell_type": "code",
   "execution_count": null,
   "metadata": {},
   "outputs": [],
   "source": [
    "def compute_acc_per_class(y_pred_class, y_true_class, classes):\n",
    "    acc = {}\n",
    "    for label in classes:\n",
    "        y_pred_class_tmp = y_pred_class == label\n",
    "        y_true_class_tmp = y_true_class == y_true_class\n",
    "        acc[label] = sum(y_pred_class_tmp == y_true_class_tmp)/len(y_true_class_tmp)\n",
    "    return acc"
   ]
  },
  {
   "cell_type": "code",
   "execution_count": 19,
   "metadata": {},
   "outputs": [
    {
     "name": "stdout",
     "output_type": "stream",
     "text": [
      "\n",
      " Time taken: 0 hours 7 minutes and 23.8 seconds.\n"
     ]
    }
   ],
   "source": [
    "start_time = timer(start_time=None)\n",
    "\n",
    "param = {'objective':\"binary:logistic\",\n",
    "         'random_state':RANDOM_STATE}\n",
    "ovr_clf = OneVsRestClassifier(XGBClassifier(**param))\n",
    "ovr_clf.fit(X_train, y_train)\n",
    "\n",
    "timer(start_time)\n"
   ]
  },
  {
   "cell_type": "code",
   "execution_count": 95,
   "metadata": {},
   "outputs": [],
   "source": [
    "y_pred_class = ovr_clf.predict(X_test)"
   ]
  },
  {
   "cell_type": "code",
   "execution_count": null,
   "metadata": {},
   "outputs": [],
   "source": [
    "compute_acc_per_class(y_pred_class, y_true_class = y_test, classes = labels)"
   ]
  },
  {
   "cell_type": "code",
   "execution_count": 20,
   "metadata": {},
   "outputs": [
    {
     "data": {
      "text/plain": [
       "0.9776"
      ]
     },
     "execution_count": 20,
     "metadata": {},
     "output_type": "execute_result"
    }
   ],
   "source": [
    "accuracy_score(ovr_clf.predict(X_test), y_test)"
   ]
  },
  {
   "cell_type": "markdown",
   "metadata": {},
   "source": [
    "## One vs Rest with optimized parameters for each class\n"
   ]
  },
  {
   "cell_type": "code",
   "execution_count": 85,
   "metadata": {},
   "outputs": [],
   "source": [
    "def optimize_hiperparams(xgb_cl, X_train, y_train, params_grid, RANDOM_STATE):\n",
    "    # randomized search\n",
    "    folds = 3\n",
    "\n",
    "    skf = StratifiedKFold(n_splits=folds, shuffle = True, random_state = RANDOM_STATE)\n",
    "\n",
    "    random_search = RandomizedSearchCV(xgb_cl, param_distributions=params_grid, \n",
    "                                       n_iter=5, \n",
    "                                       n_jobs=3, cv=skf.split(X_train, y_train),\n",
    "                                       verbose=10, \n",
    "                                       random_state=RANDOM_STATE)\n",
    "\n",
    "    # optimize\n",
    "    start_time = timer(None) # timing starts from this point for \"start_time\" variable\n",
    "    random_search.fit(X_train, y_train)\n",
    "    return random_search.best_params_"
   ]
  },
  {
   "cell_type": "code",
   "execution_count": null,
   "metadata": {},
   "outputs": [],
   "source": [
    "params_grid = {\n",
    "        'min_child_weight': [1, 5, 10],\n",
    "        'learning_rate': [0.1, 0.5],\n",
    "        'subsample': [0.6, 0.8, 1.0],\n",
    "        'colsample_bytree': [0.6, 0.8, 1.0],\n",
    "        'max_depth': [5, 7, 10],\n",
    "        'objective': [\"binary:logistic\"]\n",
    "        }\n",
    "\n",
    "X_test_predict = []\n",
    "columns = []\n",
    "\n",
    "for label in labels:\n",
    "    print(\"Building model for label: \", label)\n",
    "    y_train_tmp = [1  if x == label else 0 for x in y_train]\n",
    "    best_params = optimize_hiperparams(xgb_cl, X_train, y_train_tmp, params_grid, RANDOM_STATE)\n",
    "    xgb_bin_tmp = XGBClassifier(**best_params)\n",
    "    xgb_bin_tmp.fit(X_train, y_train_tmp)\n",
    "    \n",
    "    idx = 1\n",
    "    X_test_predict.append(xgb_bin_tmp.predict_proba(X_test)[:, idx])\n",
    "    columns.append(label + \"_prob\")\n"
   ]
  },
  {
   "cell_type": "code",
   "execution_count": 39,
   "metadata": {},
   "outputs": [],
   "source": [
    "X_test_predict1 = pd.DataFrame(X_test_predict).T\n"
   ]
  },
  {
   "cell_type": "code",
   "execution_count": 40,
   "metadata": {},
   "outputs": [],
   "source": [
    "X_test_predict1['pred_class'] = X_test_predict1.idxmax(axis=\"columns\")\n",
    "X_test_predict1['true_class'] = y_test"
   ]
  },
  {
   "cell_type": "code",
   "execution_count": 41,
   "metadata": {},
   "outputs": [
    {
     "data": {
      "text/html": [
       "<div>\n",
       "<style scoped>\n",
       "    .dataframe tbody tr th:only-of-type {\n",
       "        vertical-align: middle;\n",
       "    }\n",
       "\n",
       "    .dataframe tbody tr th {\n",
       "        vertical-align: top;\n",
       "    }\n",
       "\n",
       "    .dataframe thead th {\n",
       "        text-align: right;\n",
       "    }\n",
       "</style>\n",
       "<table border=\"1\" class=\"dataframe\">\n",
       "  <thead>\n",
       "    <tr style=\"text-align: right;\">\n",
       "      <th></th>\n",
       "      <th>0</th>\n",
       "      <th>1</th>\n",
       "      <th>2</th>\n",
       "      <th>3</th>\n",
       "      <th>4</th>\n",
       "      <th>5</th>\n",
       "      <th>6</th>\n",
       "      <th>7</th>\n",
       "      <th>8</th>\n",
       "      <th>9</th>\n",
       "      <th>pred_class</th>\n",
       "      <th>true_class</th>\n",
       "    </tr>\n",
       "  </thead>\n",
       "  <tbody>\n",
       "    <tr>\n",
       "      <th>0</th>\n",
       "      <td>0.000007</td>\n",
       "      <td>6.486103e-07</td>\n",
       "      <td>5.114993e-05</td>\n",
       "      <td>0.001260</td>\n",
       "      <td>1.610277e-06</td>\n",
       "      <td>0.000005</td>\n",
       "      <td>5.220033e-07</td>\n",
       "      <td>1.228419e-06</td>\n",
       "      <td>9.999697e-01</td>\n",
       "      <td>0.000001</td>\n",
       "      <td>8</td>\n",
       "      <td>8</td>\n",
       "    </tr>\n",
       "    <tr>\n",
       "      <th>1</th>\n",
       "      <td>0.000003</td>\n",
       "      <td>2.875402e-07</td>\n",
       "      <td>8.070029e-07</td>\n",
       "      <td>0.000004</td>\n",
       "      <td>9.999899e-01</td>\n",
       "      <td>0.000012</td>\n",
       "      <td>1.052732e-05</td>\n",
       "      <td>1.254222e-03</td>\n",
       "      <td>5.400230e-06</td>\n",
       "      <td>0.000144</td>\n",
       "      <td>4</td>\n",
       "      <td>4</td>\n",
       "    </tr>\n",
       "    <tr>\n",
       "      <th>2</th>\n",
       "      <td>0.000002</td>\n",
       "      <td>3.207768e-06</td>\n",
       "      <td>1.239824e-05</td>\n",
       "      <td>0.001151</td>\n",
       "      <td>1.431903e-05</td>\n",
       "      <td>0.001840</td>\n",
       "      <td>4.519127e-03</td>\n",
       "      <td>3.908603e-06</td>\n",
       "      <td>7.310153e-01</td>\n",
       "      <td>0.000077</td>\n",
       "      <td>8</td>\n",
       "      <td>8</td>\n",
       "    </tr>\n",
       "    <tr>\n",
       "      <th>3</th>\n",
       "      <td>0.000003</td>\n",
       "      <td>2.413362e-06</td>\n",
       "      <td>2.115519e-04</td>\n",
       "      <td>0.000382</td>\n",
       "      <td>3.053685e-07</td>\n",
       "      <td>0.000001</td>\n",
       "      <td>1.038110e-07</td>\n",
       "      <td>9.999633e-01</td>\n",
       "      <td>1.290018e-06</td>\n",
       "      <td>0.000009</td>\n",
       "      <td>7</td>\n",
       "      <td>7</td>\n",
       "    </tr>\n",
       "    <tr>\n",
       "      <th>4</th>\n",
       "      <td>0.000018</td>\n",
       "      <td>4.146792e-06</td>\n",
       "      <td>1.155458e-05</td>\n",
       "      <td>0.000019</td>\n",
       "      <td>4.646954e-06</td>\n",
       "      <td>0.000015</td>\n",
       "      <td>1.436491e-07</td>\n",
       "      <td>9.998953e-01</td>\n",
       "      <td>2.375720e-06</td>\n",
       "      <td>0.000591</td>\n",
       "      <td>7</td>\n",
       "      <td>7</td>\n",
       "    </tr>\n",
       "    <tr>\n",
       "      <th>...</th>\n",
       "      <td>...</td>\n",
       "      <td>...</td>\n",
       "      <td>...</td>\n",
       "      <td>...</td>\n",
       "      <td>...</td>\n",
       "      <td>...</td>\n",
       "      <td>...</td>\n",
       "      <td>...</td>\n",
       "      <td>...</td>\n",
       "      <td>...</td>\n",
       "      <td>...</td>\n",
       "      <td>...</td>\n",
       "    </tr>\n",
       "    <tr>\n",
       "      <th>9995</th>\n",
       "      <td>0.000002</td>\n",
       "      <td>7.224315e-06</td>\n",
       "      <td>9.999481e-01</td>\n",
       "      <td>0.000006</td>\n",
       "      <td>5.716324e-06</td>\n",
       "      <td>0.000005</td>\n",
       "      <td>1.369874e-06</td>\n",
       "      <td>1.483103e-05</td>\n",
       "      <td>9.785467e-07</td>\n",
       "      <td>0.000016</td>\n",
       "      <td>2</td>\n",
       "      <td>2</td>\n",
       "    </tr>\n",
       "    <tr>\n",
       "      <th>9996</th>\n",
       "      <td>0.000003</td>\n",
       "      <td>1.115329e-06</td>\n",
       "      <td>1.526240e-05</td>\n",
       "      <td>0.000270</td>\n",
       "      <td>3.116885e-04</td>\n",
       "      <td>0.000124</td>\n",
       "      <td>1.663161e-04</td>\n",
       "      <td>3.954419e-06</td>\n",
       "      <td>9.938950e-01</td>\n",
       "      <td>0.000715</td>\n",
       "      <td>8</td>\n",
       "      <td>8</td>\n",
       "    </tr>\n",
       "    <tr>\n",
       "      <th>9997</th>\n",
       "      <td>0.000007</td>\n",
       "      <td>1.636114e-05</td>\n",
       "      <td>8.965385e-04</td>\n",
       "      <td>0.921059</td>\n",
       "      <td>7.141514e-08</td>\n",
       "      <td>0.000235</td>\n",
       "      <td>2.892266e-07</td>\n",
       "      <td>1.270499e-06</td>\n",
       "      <td>3.954600e-06</td>\n",
       "      <td>0.000058</td>\n",
       "      <td>3</td>\n",
       "      <td>3</td>\n",
       "    </tr>\n",
       "    <tr>\n",
       "      <th>9998</th>\n",
       "      <td>0.000276</td>\n",
       "      <td>9.710186e-07</td>\n",
       "      <td>3.512192e-05</td>\n",
       "      <td>0.004201</td>\n",
       "      <td>1.759610e-06</td>\n",
       "      <td>0.000060</td>\n",
       "      <td>8.065166e-06</td>\n",
       "      <td>6.780021e-08</td>\n",
       "      <td>9.568717e-01</td>\n",
       "      <td>0.017933</td>\n",
       "      <td>8</td>\n",
       "      <td>8</td>\n",
       "    </tr>\n",
       "    <tr>\n",
       "      <th>9999</th>\n",
       "      <td>0.000006</td>\n",
       "      <td>2.384729e-06</td>\n",
       "      <td>5.997646e-05</td>\n",
       "      <td>0.996566</td>\n",
       "      <td>2.384672e-07</td>\n",
       "      <td>0.000025</td>\n",
       "      <td>8.464372e-08</td>\n",
       "      <td>1.145714e-04</td>\n",
       "      <td>8.414788e-06</td>\n",
       "      <td>0.000171</td>\n",
       "      <td>3</td>\n",
       "      <td>3</td>\n",
       "    </tr>\n",
       "  </tbody>\n",
       "</table>\n",
       "<p>10000 rows × 12 columns</p>\n",
       "</div>"
      ],
      "text/plain": [
       "             0             1             2         3             4         5  \\\n",
       "0     0.000007  6.486103e-07  5.114993e-05  0.001260  1.610277e-06  0.000005   \n",
       "1     0.000003  2.875402e-07  8.070029e-07  0.000004  9.999899e-01  0.000012   \n",
       "2     0.000002  3.207768e-06  1.239824e-05  0.001151  1.431903e-05  0.001840   \n",
       "3     0.000003  2.413362e-06  2.115519e-04  0.000382  3.053685e-07  0.000001   \n",
       "4     0.000018  4.146792e-06  1.155458e-05  0.000019  4.646954e-06  0.000015   \n",
       "...        ...           ...           ...       ...           ...       ...   \n",
       "9995  0.000002  7.224315e-06  9.999481e-01  0.000006  5.716324e-06  0.000005   \n",
       "9996  0.000003  1.115329e-06  1.526240e-05  0.000270  3.116885e-04  0.000124   \n",
       "9997  0.000007  1.636114e-05  8.965385e-04  0.921059  7.141514e-08  0.000235   \n",
       "9998  0.000276  9.710186e-07  3.512192e-05  0.004201  1.759610e-06  0.000060   \n",
       "9999  0.000006  2.384729e-06  5.997646e-05  0.996566  2.384672e-07  0.000025   \n",
       "\n",
       "                 6             7             8         9  pred_class  \\\n",
       "0     5.220033e-07  1.228419e-06  9.999697e-01  0.000001           8   \n",
       "1     1.052732e-05  1.254222e-03  5.400230e-06  0.000144           4   \n",
       "2     4.519127e-03  3.908603e-06  7.310153e-01  0.000077           8   \n",
       "3     1.038110e-07  9.999633e-01  1.290018e-06  0.000009           7   \n",
       "4     1.436491e-07  9.998953e-01  2.375720e-06  0.000591           7   \n",
       "...            ...           ...           ...       ...         ...   \n",
       "9995  1.369874e-06  1.483103e-05  9.785467e-07  0.000016           2   \n",
       "9996  1.663161e-04  3.954419e-06  9.938950e-01  0.000715           8   \n",
       "9997  2.892266e-07  1.270499e-06  3.954600e-06  0.000058           3   \n",
       "9998  8.065166e-06  6.780021e-08  9.568717e-01  0.017933           8   \n",
       "9999  8.464372e-08  1.145714e-04  8.414788e-06  0.000171           3   \n",
       "\n",
       "     true_class  \n",
       "0             8  \n",
       "1             4  \n",
       "2             8  \n",
       "3             7  \n",
       "4             7  \n",
       "...         ...  \n",
       "9995          2  \n",
       "9996          8  \n",
       "9997          3  \n",
       "9998          8  \n",
       "9999          3  \n",
       "\n",
       "[10000 rows x 12 columns]"
      ]
     },
     "execution_count": 41,
     "metadata": {},
     "output_type": "execute_result"
    }
   ],
   "source": [
    "X_test_predict1"
   ]
  }
 ],
 "metadata": {
  "kernelspec": {
   "display_name": "learn",
   "language": "python",
   "name": "learn"
  },
  "language_info": {
   "codemirror_mode": {
    "name": "ipython",
    "version": 3
   },
   "file_extension": ".py",
   "mimetype": "text/x-python",
   "name": "python",
   "nbconvert_exporter": "python",
   "pygments_lexer": "ipython3",
   "version": "3.8.5"
  }
 },
 "nbformat": 4,
 "nbformat_minor": 4
}
